{
 "cells": [
  {
   "cell_type": "code",
   "execution_count": 15,
   "metadata": {},
   "outputs": [],
   "source": [
    "import pandas as pd\n",
    "train = pd.read_csv('https://www.cs.umb.edu/~smimarog/textmining/datasets/r8-train-all-terms.txt', sep='\\t', names=['label', 'text'])\n",
    "test = pd.read_csv('https://www.cs.umb.edu/~smimarog/textmining/datasets/r8-test-all-terms.txt', sep='\\t', names=['label', 'text'])"
   ]
  },
  {
   "cell_type": "code",
   "execution_count": 16,
   "metadata": {},
   "outputs": [],
   "source": [
    "train['set'] = 'train'\n",
    "test['set'] = 'test'\n",
    "data = pd.concat([train,test], ignore_index=True)"
   ]
  },
  {
   "cell_type": "code",
   "execution_count": 17,
   "metadata": {},
   "outputs": [],
   "source": [
    "data.to_pickle('../data/r8.pkl')"
   ]
  },
  {
   "cell_type": "code",
   "execution_count": null,
   "metadata": {},
   "outputs": [],
   "source": []
  },
  {
   "cell_type": "code",
   "execution_count": null,
   "metadata": {},
   "outputs": [],
   "source": []
  },
  {
   "cell_type": "markdown",
   "metadata": {},
   "source": [
    "# OLD"
   ]
  },
  {
   "cell_type": "code",
   "execution_count": 1,
   "metadata": {},
   "outputs": [],
   "source": [
    "import pandas as pd\n",
    "import glob"
   ]
  },
  {
   "cell_type": "code",
   "execution_count": 21,
   "metadata": {},
   "outputs": [],
   "source": [
    "train_files = glob.glob('../data/newsgroups/train_txt/*.txt')\n",
    "test_files = glob.glob('../data/newsgroups/test_txt/*.txt')\n",
    "\n",
    "train_labels = [int(i.rstrip('\\n')) for i in open('../data/newsgroups/train_label.txt').readlines()]\n",
    "test_labels = [int(i.rstrip('\\n')) for i in open('../data/newsgroups/test_label.txt').readlines()]\n",
    "\n",
    "train_lfn = [i.rstrip('\\n') for i in open('../data/newsgroups/train_txt.txt').readlines()]\n",
    "test_lfn = [i.rstrip('\\n') for i in open('../data/newsgroups/test_txt.txt').readlines()]\n",
    "\n",
    "train_lkp = dict(zip(train_lfn, train_labels))\n",
    "test_lkp = dict(zip(test_lfn, test_labels))"
   ]
  },
  {
   "cell_type": "code",
   "execution_count": 25,
   "metadata": {},
   "outputs": [],
   "source": [
    "train_text = [(f.split('/')[-1], open(f).read()) for f in train_files]\n",
    "test_text = [(f.split('/')[-1], open(f).read()) for f in test_files]\n",
    "\n",
    "train = pd.DataFrame(train_text, columns = ['filename','text'])\n",
    "test = pd.DataFrame(test_text, columns = ['filename','text'])\n",
    "\n",
    "train['label'] = train['filename'].map(lambda x: train_lkp[x])\n",
    "test['label'] = test['filename'].map(lambda x: test_lkp[x])\n",
    "\n",
    "train['set'] = 'train'\n",
    "test['set'] = 'test'"
   ]
  },
  {
   "cell_type": "code",
   "execution_count": 26,
   "metadata": {},
   "outputs": [],
   "source": [
    "data = pd.concat([train, test], ignore_index=True).drop('filename', axis=1)"
   ]
  },
  {
   "cell_type": "code",
   "execution_count": 27,
   "metadata": {},
   "outputs": [],
   "source": [
    "data.to_pickle('../data/newsgroups.pkl')"
   ]
  },
  {
   "cell_type": "code",
   "execution_count": 7,
   "metadata": {},
   "outputs": [
    {
     "data": {
      "text/plain": [
       "8"
      ]
     },
     "execution_count": 7,
     "metadata": {},
     "output_type": "execute_result"
    }
   ],
   "source": [
    "pd.read_pickle('../data/newsgroups.pkl')"
   ]
  },
  {
   "cell_type": "code",
   "execution_count": null,
   "metadata": {},
   "outputs": [],
   "source": []
  }
 ],
 "metadata": {
  "kernelspec": {
   "display_name": "Python 3",
   "language": "python",
   "name": "python3"
  },
  "language_info": {
   "codemirror_mode": {
    "name": "ipython",
    "version": 3
   },
   "file_extension": ".py",
   "mimetype": "text/x-python",
   "name": "python",
   "nbconvert_exporter": "python",
   "pygments_lexer": "ipython3",
   "version": "3.6.7"
  }
 },
 "nbformat": 4,
 "nbformat_minor": 2
}
