{
 "cells": [
  {
   "cell_type": "code",
   "execution_count": 1,
   "metadata": {},
   "outputs": [],
   "source": [
    "import pandas as pd"
   ]
  },
  {
   "cell_type": "code",
   "execution_count": 2,
   "metadata": {},
   "outputs": [],
   "source": [
    "en = [i.rstrip('\\n') for i in open('../data/europarl-v7.es-en.en').readlines()]\n",
    "es = [i.rstrip('\\n') for i in open('../data/europarl-v7.es-en.es').readlines()]\n",
    "\n",
    "data = pd.DataFrame({'english': en, 'spanish': es})"
   ]
  },
  {
   "cell_type": "code",
   "execution_count": 3,
   "metadata": {},
   "outputs": [
    {
     "name": "stdout",
     "output_type": "stream",
     "text": [
      "11618\n"
     ]
    },
    {
     "data": {
      "text/html": [
       "<div>\n",
       "<style scoped>\n",
       "    .dataframe tbody tr th:only-of-type {\n",
       "        vertical-align: middle;\n",
       "    }\n",
       "\n",
       "    .dataframe tbody tr th {\n",
       "        vertical-align: top;\n",
       "    }\n",
       "\n",
       "    .dataframe thead th {\n",
       "        text-align: right;\n",
       "    }\n",
       "</style>\n",
       "<table border=\"1\" class=\"dataframe\">\n",
       "  <thead>\n",
       "    <tr style=\"text-align: right;\">\n",
       "      <th></th>\n",
       "      <th>english</th>\n",
       "      <th>spanish</th>\n",
       "      <th>text</th>\n",
       "      <th>label</th>\n",
       "    </tr>\n",
       "  </thead>\n",
       "  <tbody>\n",
       "    <tr>\n",
       "      <th>600702</th>\n",
       "      <td>Allow us to state that the opening of the inqu...</td>\n",
       "      <td>Permita que le digamos que las investigaciones...</td>\n",
       "      <td>[allow, us, to, state, that, the, opening, of,...</td>\n",
       "      <td>[permita, que, le, digamos, que, las, investig...</td>\n",
       "    </tr>\n",
       "    <tr>\n",
       "      <th>3733</th>\n",
       "      <td>Since June of last year, the OLAF regulation h...</td>\n",
       "      <td>Desde junio del año pasado el Reglamento de la...</td>\n",
       "      <td>[since, june, of, last, year,, the, olaf, regu...</td>\n",
       "      <td>[desde, junio, del, año, pasado, el, reglament...</td>\n",
       "    </tr>\n",
       "    <tr>\n",
       "      <th>1180999</th>\n",
       "      <td>I am fully aware of the views expressed here o...</td>\n",
       "      <td>Soy plenamente consciente de las opiniones exp...</td>\n",
       "      <td>[i, am, fully, aware, of, the, views, expresse...</td>\n",
       "      <td>[soy, plenamente, consciente, de, las, opinion...</td>\n",
       "    </tr>\n",
       "    <tr>\n",
       "      <th>109251</th>\n",
       "      <td>I will have clarification of that situation la...</td>\n",
       "      <td>Hoy mismo recibiré información sobre dicha sit...</td>\n",
       "      <td>[i, will, have, clarification, of, that, situa...</td>\n",
       "      <td>[hoy, mismo, recibiré, información, sobre, dic...</td>\n",
       "    </tr>\n",
       "    <tr>\n",
       "      <th>1401751</th>\n",
       "      <td>Let us not forget, the Roma were the first to ...</td>\n",
       "      <td>No olvidemos que la población gitana fue la pr...</td>\n",
       "      <td>[let, us, not, forget,, the, roma, were, the, ...</td>\n",
       "      <td>[no, olvidemos, que, la, población, gitana, fu...</td>\n",
       "    </tr>\n",
       "  </tbody>\n",
       "</table>\n",
       "</div>"
      ],
      "text/plain": [
       "                                                   english  \\\n",
       "600702   Allow us to state that the opening of the inqu...   \n",
       "3733     Since June of last year, the OLAF regulation h...   \n",
       "1180999  I am fully aware of the views expressed here o...   \n",
       "109251   I will have clarification of that situation la...   \n",
       "1401751  Let us not forget, the Roma were the first to ...   \n",
       "\n",
       "                                                   spanish  \\\n",
       "600702   Permita que le digamos que las investigaciones...   \n",
       "3733     Desde junio del año pasado el Reglamento de la...   \n",
       "1180999  Soy plenamente consciente de las opiniones exp...   \n",
       "109251   Hoy mismo recibiré información sobre dicha sit...   \n",
       "1401751  No olvidemos que la población gitana fue la pr...   \n",
       "\n",
       "                                                      text  \\\n",
       "600702   [allow, us, to, state, that, the, opening, of,...   \n",
       "3733     [since, june, of, last, year,, the, olaf, regu...   \n",
       "1180999  [i, am, fully, aware, of, the, views, expresse...   \n",
       "109251   [i, will, have, clarification, of, that, situa...   \n",
       "1401751  [let, us, not, forget,, the, roma, were, the, ...   \n",
       "\n",
       "                                                     label  \n",
       "600702   [permita, que, le, digamos, que, las, investig...  \n",
       "3733     [desde, junio, del, año, pasado, el, reglament...  \n",
       "1180999  [soy, plenamente, consciente, de, las, opinion...  \n",
       "109251   [hoy, mismo, recibiré, información, sobre, dic...  \n",
       "1401751  [no, olvidemos, que, la, población, gitana, fu...  "
      ]
     },
     "execution_count": 3,
     "metadata": {},
     "output_type": "execute_result"
    }
   ],
   "source": [
    "cutoff = 25\n",
    "data['text'] = data['english'].map(lambda x: x.lower().split())\n",
    "data['label'] = data['spanish'].map(lambda x: x.lower().split())\n",
    "\n",
    "data = data[data['text'].map(lambda x: len(x) <= cutoff)]\n",
    "\n",
    "data = data.sample(frac=0.01)\n",
    "\n",
    "print(data.shape[0])\n",
    "data.head()"
   ]
  },
  {
   "cell_type": "code",
   "execution_count": 4,
   "metadata": {},
   "outputs": [],
   "source": [
    "data.to_pickle('../data/europarl_en_sp.pkl')"
   ]
  },
  {
   "cell_type": "code",
   "execution_count": null,
   "metadata": {},
   "outputs": [],
   "source": []
  }
 ],
 "metadata": {
  "kernelspec": {
   "display_name": "Python 3",
   "language": "python",
   "name": "python3"
  },
  "language_info": {
   "codemirror_mode": {
    "name": "ipython",
    "version": 3
   },
   "file_extension": ".py",
   "mimetype": "text/x-python",
   "name": "python",
   "nbconvert_exporter": "python",
   "pygments_lexer": "ipython3",
   "version": "3.6.7"
  }
 },
 "nbformat": 4,
 "nbformat_minor": 2
}
